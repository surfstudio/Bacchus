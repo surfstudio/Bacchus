{
 "cells": [
  {
   "cell_type": "code",
   "execution_count": 1,
   "metadata": {
    "ExecuteTime": {
     "end_time": "2017-04-03T17:00:39.006418",
     "start_time": "2017-04-03T17:00:38.987579"
    },
    "collapsed": true
   },
   "outputs": [],
   "source": [
    "import re\n",
    "import pandas as pd\n",
    "\n",
    "from toolz.functoolz import excepts\n",
    "from urllib.request import urlretrieve"
   ]
  },
  {
   "cell_type": "code",
   "execution_count": 2,
   "metadata": {
    "ExecuteTime": {
     "end_time": "2017-04-03T17:00:39.407075",
     "start_time": "2017-04-03T17:00:39.403864"
    },
    "collapsed": true
   },
   "outputs": [],
   "source": [
    "import sys; sys.path.append('../data/')"
   ]
  },
  {
   "cell_type": "markdown",
   "metadata": {},
   "source": [
    "Все необходимые импорты есть в файле `bacchus.py`. Поэтому достаточно импортировать его:"
   ]
  },
  {
   "cell_type": "code",
   "execution_count": 3,
   "metadata": {
    "ExecuteTime": {
     "end_time": "2017-04-03T17:00:41.636527",
     "start_time": "2017-04-03T17:00:41.032807"
    },
    "collapsed": false
   },
   "outputs": [],
   "source": [
    "import bacchus"
   ]
  },
  {
   "cell_type": "markdown",
   "metadata": {},
   "source": [
    "----"
   ]
  },
  {
   "cell_type": "markdown",
   "metadata": {},
   "source": [
    "# Загрузка данных"
   ]
  },
  {
   "cell_type": "markdown",
   "metadata": {},
   "source": [
    "Загрузим данные и убедимся, что все на месте:"
   ]
  },
  {
   "cell_type": "code",
   "execution_count": 4,
   "metadata": {
    "ExecuteTime": {
     "end_time": "2017-04-03T17:00:44.942239",
     "start_time": "2017-04-03T17:00:42.768861"
    },
    "collapsed": false
   },
   "outputs": [],
   "source": [
    "urlretrieve (\"http://biostat.mc.vanderbilt.edu/wiki/pub/Main/DataSets/titanic3.xls\", \"titanic.xls\");"
   ]
  },
  {
   "cell_type": "code",
   "execution_count": 5,
   "metadata": {
    "ExecuteTime": {
     "end_time": "2017-04-03T17:00:45.052401",
     "start_time": "2017-04-03T17:00:44.944867"
    },
    "collapsed": false
   },
   "outputs": [
    {
     "data": {
      "text/plain": [
       "(1309, 14)"
      ]
     },
     "execution_count": 5,
     "metadata": {},
     "output_type": "execute_result"
    }
   ],
   "source": [
    "df = pd.read_excel('titanic.xls')\n",
    "df.shape"
   ]
  },
  {
   "cell_type": "code",
   "execution_count": 6,
   "metadata": {
    "ExecuteTime": {
     "end_time": "2017-04-03T17:00:45.077283",
     "start_time": "2017-04-03T17:00:45.054566"
    },
    "collapsed": false
   },
   "outputs": [
    {
     "data": {
      "text/html": [
       "<div>\n",
       "<table border=\"1\" class=\"dataframe\">\n",
       "  <thead>\n",
       "    <tr style=\"text-align: right;\">\n",
       "      <th></th>\n",
       "      <th>pclass</th>\n",
       "      <th>survived</th>\n",
       "      <th>name</th>\n",
       "      <th>sex</th>\n",
       "      <th>age</th>\n",
       "      <th>sibsp</th>\n",
       "      <th>parch</th>\n",
       "      <th>ticket</th>\n",
       "      <th>fare</th>\n",
       "      <th>cabin</th>\n",
       "      <th>embarked</th>\n",
       "      <th>boat</th>\n",
       "      <th>body</th>\n",
       "      <th>home.dest</th>\n",
       "    </tr>\n",
       "  </thead>\n",
       "  <tbody>\n",
       "    <tr>\n",
       "      <th>0</th>\n",
       "      <td>1</td>\n",
       "      <td>1</td>\n",
       "      <td>Allen, Miss. Elisabeth Walton</td>\n",
       "      <td>female</td>\n",
       "      <td>29.0000</td>\n",
       "      <td>0</td>\n",
       "      <td>0</td>\n",
       "      <td>24160</td>\n",
       "      <td>211.3375</td>\n",
       "      <td>B5</td>\n",
       "      <td>S</td>\n",
       "      <td>2</td>\n",
       "      <td>NaN</td>\n",
       "      <td>St Louis, MO</td>\n",
       "    </tr>\n",
       "    <tr>\n",
       "      <th>1</th>\n",
       "      <td>1</td>\n",
       "      <td>1</td>\n",
       "      <td>Allison, Master. Hudson Trevor</td>\n",
       "      <td>male</td>\n",
       "      <td>0.9167</td>\n",
       "      <td>1</td>\n",
       "      <td>2</td>\n",
       "      <td>113781</td>\n",
       "      <td>151.5500</td>\n",
       "      <td>C22 C26</td>\n",
       "      <td>S</td>\n",
       "      <td>11</td>\n",
       "      <td>NaN</td>\n",
       "      <td>Montreal, PQ / Chesterville, ON</td>\n",
       "    </tr>\n",
       "    <tr>\n",
       "      <th>2</th>\n",
       "      <td>1</td>\n",
       "      <td>0</td>\n",
       "      <td>Allison, Miss. Helen Loraine</td>\n",
       "      <td>female</td>\n",
       "      <td>2.0000</td>\n",
       "      <td>1</td>\n",
       "      <td>2</td>\n",
       "      <td>113781</td>\n",
       "      <td>151.5500</td>\n",
       "      <td>C22 C26</td>\n",
       "      <td>S</td>\n",
       "      <td>NaN</td>\n",
       "      <td>NaN</td>\n",
       "      <td>Montreal, PQ / Chesterville, ON</td>\n",
       "    </tr>\n",
       "  </tbody>\n",
       "</table>\n",
       "</div>"
      ],
      "text/plain": [
       "   pclass  survived                            name     sex      age  sibsp  \\\n",
       "0       1         1   Allen, Miss. Elisabeth Walton  female  29.0000      0   \n",
       "1       1         1  Allison, Master. Hudson Trevor    male   0.9167      1   \n",
       "2       1         0    Allison, Miss. Helen Loraine  female   2.0000      1   \n",
       "\n",
       "   parch  ticket      fare    cabin embarked boat  body  \\\n",
       "0      0   24160  211.3375       B5        S    2   NaN   \n",
       "1      2  113781  151.5500  C22 C26        S   11   NaN   \n",
       "2      2  113781  151.5500  C22 C26        S  NaN   NaN   \n",
       "\n",
       "                         home.dest  \n",
       "0                     St Louis, MO  \n",
       "1  Montreal, PQ / Chesterville, ON  \n",
       "2  Montreal, PQ / Chesterville, ON  "
      ]
     },
     "execution_count": 6,
     "metadata": {},
     "output_type": "execute_result"
    }
   ],
   "source": [
    "df.head(3)"
   ]
  },
  {
   "cell_type": "markdown",
   "metadata": {},
   "source": [
    "# Подготовка данных"
   ]
  },
  {
   "cell_type": "markdown",
   "metadata": {},
   "source": [
    "С визуализацией и анализом исходных данных можно ознакомиться в ряде статей:\n",
    "* https://habrahabr.ru/post/274171/\n",
    "* https://habrahabr.ru/company/mlclass/blog/270973/\n",
    "\n",
    "В этой тетрадке я буду вдаваться в подробности того, почему генерируем конкретные признаки именно так, а не иначе. Вместо этого буду просто отталкиваться от задач, которые будут постепенно перед нами вставать, и как их решить с помощью __Bacchus__. "
   ]
  },
  {
   "cell_type": "markdown",
   "metadata": {},
   "source": [
    "## Генерация новых признаков"
   ]
  },
  {
   "cell_type": "markdown",
   "metadata": {},
   "source": [
    "Начнем с простого: у нас есть один признак, например, полное имя пассажира, а нам хочется извлечь оттуда его титул. \n",
    "\n",
    "Создадим лямбда-выражение, которое умеет выделить его из строки:"
   ]
  },
  {
   "cell_type": "code",
   "execution_count": 7,
   "metadata": {
    "ExecuteTime": {
     "end_time": "2017-04-03T17:00:46.620379",
     "start_time": "2017-04-03T17:00:46.617243"
    },
    "collapsed": true
   },
   "outputs": [],
   "source": [
    "extract_title = lambda s: s.split(',')[1].split('.')[0].strip()"
   ]
  },
  {
   "cell_type": "markdown",
   "metadata": {},
   "source": [
    "Чтобы вставить его в пайплайн, поможет обертка, которая называется просто: __Transformer__. \n",
    "\n",
    "Применить его можно следующим образом:\n",
    "\n",
    "__```Transformer```__```(```__```lambda```__```, [```__```apply_on```__```, [```__```value_name```__```]])```\n",
    "\n",
    "Предполагается два варианта использования:\n",
    "\n",
    "* `Transformer(lambda)`. В данном случае lambda будет применена ко всему __DataFrame__.\n",
    "* `Transformer(lambda, apply_on[, value_name])`. В этом варианте предполагается, что lambda принимает уже только единственный столбец, то есть __Series__. Если параметр `value_name` не указан, то новый столбец будет называться \"`value`\". "
   ]
  },
  {
   "cell_type": "markdown",
   "metadata": {
    "ExecuteTime": {
     "end_time": "2017-04-03T15:31:52.985991",
     "start_time": "2017-04-03T15:31:52.979176"
    }
   },
   "source": [
    "Значит, вставить трансформер в пайплайн можно так:"
   ]
  },
  {
   "cell_type": "code",
   "execution_count": 8,
   "metadata": {
    "ExecuteTime": {
     "end_time": "2017-04-03T17:00:47.667977",
     "start_time": "2017-04-03T17:00:47.664855"
    },
    "collapsed": true
   },
   "outputs": [],
   "source": [
    "_ = ('title',  bacchus.Transformer(extract_title, apply_on='name', value_name='title'))"
   ]
  },
  {
   "cell_type": "markdown",
   "metadata": {},
   "source": [
    "Продолжим развивать идею: новые лямбды, новые признаки:"
   ]
  },
  {
   "cell_type": "code",
   "execution_count": 9,
   "metadata": {
    "ExecuteTime": {
     "end_time": "2017-04-03T17:00:48.420918",
     "start_time": "2017-04-03T17:00:48.416762"
    },
    "collapsed": true
   },
   "outputs": [],
   "source": [
    "extract_ticket_number = excepts(Exception, lambda x: int(re.findall(r'(\\d+)', str(x))[0]), lambda _: -1)\n",
    "extract_ticket_prefix = excepts(Exception, lambda x: re.findall(r'([a-zA-Z\\.\\s]+)', str(x))[0], lambda _: '')"
   ]
  },
  {
   "cell_type": "code",
   "execution_count": 10,
   "metadata": {
    "ExecuteTime": {
     "end_time": "2017-04-03T17:00:48.904150",
     "start_time": "2017-04-03T17:00:48.900186"
    },
    "collapsed": false
   },
   "outputs": [],
   "source": [
    "cabin_class = excepts(Exception, lambda s: s[0], lambda _: np.nan)\n",
    "cabin_side  = excepts(Exception, lambda s: int(re.findall(r'\\d+', s)[0]) % 2,  lambda _: -1)"
   ]
  },
  {
   "cell_type": "markdown",
   "metadata": {},
   "source": [
    "Наконец, это можно объединить:"
   ]
  },
  {
   "cell_type": "code",
   "execution_count": 11,
   "metadata": {
    "ExecuteTime": {
     "end_time": "2017-04-03T17:00:49.595429",
     "start_time": "2017-04-03T17:00:49.589388"
    },
    "collapsed": true
   },
   "outputs": [],
   "source": [
    "pipeline = bacchus.DFPipeline([\n",
    "    ('title',  bacchus.Transformer(extract_title,         apply_on='name',   value_name='title')),\n",
    "    ('number', bacchus.Transformer(extract_ticket_number, apply_on='ticket', value_name='ticket_number')),\n",
    "    ('prefix', bacchus.Transformer(extract_ticket_prefix, apply_on='ticket', value_name='ticket_prefix')),\n",
    "    ('class',  bacchus.Transformer(cabin_class,           apply_on='cabin',  value_name='cabin_class')),\n",
    "    ('side',   bacchus.Transformer(cabin_side,            apply_on='cabin',  value_name='cabin_side'))\n",
    "])"
   ]
  },
  {
   "cell_type": "code",
   "execution_count": 12,
   "metadata": {
    "ExecuteTime": {
     "end_time": "2017-04-03T17:00:50.002414",
     "start_time": "2017-04-03T17:00:49.975423"
    },
    "collapsed": true
   },
   "outputs": [],
   "source": [
    "df_new_features = pipeline.fit_transform(df)"
   ]
  },
  {
   "cell_type": "markdown",
   "metadata": {},
   "source": [
    "Убеждаемся, что новые признаки добавлены:"
   ]
  },
  {
   "cell_type": "code",
   "execution_count": 13,
   "metadata": {
    "ExecuteTime": {
     "end_time": "2017-04-03T17:00:50.750941",
     "start_time": "2017-04-03T17:00:50.730347"
    },
    "collapsed": false
   },
   "outputs": [
    {
     "data": {
      "text/html": [
       "<div>\n",
       "<table border=\"1\" class=\"dataframe\">\n",
       "  <thead>\n",
       "    <tr style=\"text-align: right;\">\n",
       "      <th></th>\n",
       "      <th>pclass</th>\n",
       "      <th>survived</th>\n",
       "      <th>name</th>\n",
       "      <th>sex</th>\n",
       "      <th>age</th>\n",
       "      <th>sibsp</th>\n",
       "      <th>parch</th>\n",
       "      <th>ticket</th>\n",
       "      <th>fare</th>\n",
       "      <th>cabin</th>\n",
       "      <th>embarked</th>\n",
       "      <th>boat</th>\n",
       "      <th>body</th>\n",
       "      <th>home.dest</th>\n",
       "      <th>title</th>\n",
       "      <th>ticket_number</th>\n",
       "      <th>ticket_prefix</th>\n",
       "      <th>cabin_class</th>\n",
       "      <th>cabin_side</th>\n",
       "    </tr>\n",
       "  </thead>\n",
       "  <tbody>\n",
       "    <tr>\n",
       "      <th>0</th>\n",
       "      <td>1</td>\n",
       "      <td>1</td>\n",
       "      <td>Allen, Miss. Elisabeth Walton</td>\n",
       "      <td>female</td>\n",
       "      <td>29.0</td>\n",
       "      <td>0</td>\n",
       "      <td>0</td>\n",
       "      <td>24160</td>\n",
       "      <td>211.3375</td>\n",
       "      <td>B5</td>\n",
       "      <td>S</td>\n",
       "      <td>2</td>\n",
       "      <td>NaN</td>\n",
       "      <td>St Louis, MO</td>\n",
       "      <td>Miss</td>\n",
       "      <td>24160</td>\n",
       "      <td></td>\n",
       "      <td>B</td>\n",
       "      <td>1</td>\n",
       "    </tr>\n",
       "  </tbody>\n",
       "</table>\n",
       "</div>"
      ],
      "text/plain": [
       "   pclass  survived                           name     sex   age  sibsp  \\\n",
       "0       1         1  Allen, Miss. Elisabeth Walton  female  29.0      0   \n",
       "\n",
       "   parch ticket      fare cabin embarked boat  body     home.dest title  \\\n",
       "0      0  24160  211.3375    B5        S    2   NaN  St Louis, MO  Miss   \n",
       "\n",
       "   ticket_number ticket_prefix cabin_class  cabin_side  \n",
       "0          24160                         B           1  "
      ]
     },
     "execution_count": 13,
     "metadata": {},
     "output_type": "execute_result"
    }
   ],
   "source": [
    "df_new_features.head(1)"
   ]
  },
  {
   "cell_type": "markdown",
   "metadata": {},
   "source": [
    "## Более сложный кейс"
   ]
  },
  {
   "cell_type": "markdown",
   "metadata": {},
   "source": [
    "Как известно, нельзя впихнуть невпихуемое в однострочную лямбду.\n",
    "\n",
    "Безусловно, вы можете написать целую функцию и захватить ее __Transformer__'ом. ~~Но зачем?~~\n",
    "\n",
    "Для более продвинутой логики рекомендуется создать наследника от класса AbstractTransformer, и работать уже с ним."
   ]
  },
  {
   "cell_type": "markdown",
   "metadata": {},
   "source": [
    "Обратившись к признаку `title` можно видеть, что некоторые титулы вроде \"Don\", \"Sir\", \"Capt\" встречаются крайне редко, и вряд ли несут много полезной информации. Их вполне можно переименовать к \"каноническим\" вроде \"Mr\".\n",
    "\n",
    "Давайте посмотрим, как это можно решить: "
   ]
  },
  {
   "cell_type": "code",
   "execution_count": 14,
   "metadata": {
    "ExecuteTime": {
     "end_time": "2017-04-03T17:00:52.093404",
     "start_time": "2017-04-03T17:00:52.085133"
    },
    "collapsed": true
   },
   "outputs": [],
   "source": [
    "class TitleRenaimer(bacchus.AbstractTransformer):\n",
    "    def __init__(self, column_to_apply_on, **other):\n",
    "        super().__init__(**other)\n",
    "        self.column_to_apply_on = column_to_apply_on\n",
    "    \n",
    "    def transform(self, X, **other):\n",
    "        replacements = {\n",
    "            'Dr': 'Mr', 'Rev': 'Mr', 'Col': 'Mr', 'Ms': 'Miss', 'Major': 'Mr', 'Mlle': 'Miss', \n",
    "            'the Countess': 'Mrs', 'Capt': 'Mr', 'Dona': 'Mrs', 'Sir': 'Mr', 'Mme': 'Mrs', \n",
    "            'Lady': 'Mrs', 'Jonkheer': 'Mr', 'Don': 'Mr'\n",
    "        }\n",
    "        X[self.column_to_apply_on] = X[self.column_to_apply_on].apply(lambda x: replacements[x] if x in replacements else x)\n",
    "        return X"
   ]
  },
  {
   "cell_type": "code",
   "execution_count": 15,
   "metadata": {
    "ExecuteTime": {
     "end_time": "2017-04-03T17:00:52.432335",
     "start_time": "2017-04-03T17:00:52.389198"
    },
    "collapsed": false
   },
   "outputs": [
    {
     "data": {
      "text/plain": [
       "Mr              757\n",
       "Miss            260\n",
       "Mrs             197\n",
       "Master           61\n",
       "Dr                8\n",
       "Rev               8\n",
       "Col               4\n",
       "Major             2\n",
       "Mlle              2\n",
       "Ms                2\n",
       "the Countess      1\n",
       "Lady              1\n",
       "Capt              1\n",
       "Don               1\n",
       "Mme               1\n",
       "Dona              1\n",
       "Sir               1\n",
       "Jonkheer          1\n",
       "Name: title, dtype: int64"
      ]
     },
     "execution_count": 15,
     "metadata": {},
     "output_type": "execute_result"
    }
   ],
   "source": [
    "df_new_features.title.value_counts()"
   ]
  },
  {
   "cell_type": "code",
   "execution_count": 16,
   "metadata": {
    "ExecuteTime": {
     "end_time": "2017-04-03T17:00:52.813338",
     "start_time": "2017-04-03T17:00:52.807385"
    },
    "collapsed": false
   },
   "outputs": [],
   "source": [
    "df_correct_title = TitleRenaimer(column_to_apply_on='title').fit_transform(df_new_features)"
   ]
  },
  {
   "cell_type": "code",
   "execution_count": 17,
   "metadata": {
    "ExecuteTime": {
     "end_time": "2017-04-03T17:00:53.215031",
     "start_time": "2017-04-03T17:00:53.206290"
    },
    "collapsed": false
   },
   "outputs": [
    {
     "data": {
      "text/plain": [
       "Mr        783\n",
       "Miss      264\n",
       "Mrs       201\n",
       "Master     61\n",
       "Name: title, dtype: int64"
      ]
     },
     "execution_count": 17,
     "metadata": {},
     "output_type": "execute_result"
    }
   ],
   "source": [
    "df_correct_title.title.value_counts()"
   ]
  },
  {
   "cell_type": "markdown",
   "metadata": {},
   "source": [
    "## Работа с пропусками в данных"
   ]
  },
  {
   "cell_type": "markdown",
   "metadata": {},
   "source": [
    "Для работы с пропусками в данных предусмотрен __FillNaTransformer__. \n",
    "\n",
    "Мы отошли от `sklearn`-реализации класса __Imputer__: \n",
    "* хотелось заполнять пропуски по-разному одним и тем же унифицированным интерфейсом;\n",
    "* не хватало группирования по значениям некоторого другого признака.\n",
    "\n",
    "Смотрим, что получилось?"
   ]
  },
  {
   "cell_type": "markdown",
   "metadata": {},
   "source": [
    "Вот какие варианты для заполнения предлагает __FillNaTransformer__:\n",
    "* __`mean`__ - заполняет средним значением.\n",
    "* __`mode`__ - заполняет модой.\n",
    "* __`median`__ - заполняет медианой.\n",
    "* __`interpolate`__ - линейно интерполирует пропуски.\n",
    "* __`akima`__ - интерполяция с помощью [AKIMA](http://stackoverflow.com/a/4626304).\n",
    "* __`ffill`__ - аналогично с `ffill` оригинальной реализации Sklearn.\n",
    "* __`pad`__ - аналогично с `pad` оригинальной реализации Sklearn.\n",
    "* __`bfill`__ - аналогично с `bfill` оригинальной реализации Sklearn.\n",
    "* __`backfill`__ - аналогично с `backfill` оригинальной реализации Sklearn.\n",
    "* __`fill`__ - аналогично с `fill` оригинальной реализации Sklearn."
   ]
  },
  {
   "cell_type": "markdown",
   "metadata": {},
   "source": [
    "Синтаксис следующий: мы кормим __FillNaTransformer__'у словарь, показывающий компуктору, что делать в каждой из колонок с пропусками.\n",
    "\n",
    "Формат: \n",
    "```\n",
    "{ \n",
    "    <имя колонки>: <что делать с пропусками>,\n",
    "    <имя колонки>: <что делать с пропусками>,\n",
    "    ...\n",
    "}\n",
    "```\n",
    "\n",
    "Варианты `<что делать с пропусками>`:\n",
    "* __Название метода__. См. выше.\n",
    "* __Словарь__. Должен содержать 2 ключа: `method` и `groupby`. Очевидно, применяет заполнение с выбранным методом внутри группы значений другого признака.\n",
    "* __Конкретное значение__. Можно написать любую строку или число, и оно, как константа, поставляется в каждый из пропусков. "
   ]
  },
  {
   "cell_type": "markdown",
   "metadata": {},
   "source": [
    "Давайте быстрее к примеру! Благо в \"Титанике\" можно продемонстрировать все случаи:"
   ]
  },
  {
   "cell_type": "code",
   "execution_count": 18,
   "metadata": {
    "ExecuteTime": {
     "end_time": "2017-04-03T17:00:55.322485",
     "start_time": "2017-04-03T17:00:55.316194"
    },
    "collapsed": true
   },
   "outputs": [],
   "source": [
    "fna = bacchus.FillNaTransformer(columns_strategies={\n",
    "    # Методы\n",
    "    'embarked': 'mode',         # мода\n",
    "    'fare': 'median',           # медиана\n",
    "\n",
    "    # Метод с объединением\n",
    "    'age': dict(method='mean',  # пропуск значения у женщины будет заполнено средним возрастом женщины на борту,\n",
    "                groupby='sex'), #  а пропуск значения мужчины - средним возрастом мужчины\n",
    "\n",
    "    # Конкретные значения\n",
    "    'boat': 'unknown',\n",
    "    'cabin_class': 'unknown',\n",
    "    'home.dest': 'unknown',\n",
    "    'cabin': 'unknown',\n",
    "    'body': 'unknown'\n",
    "})"
   ]
  },
  {
   "cell_type": "code",
   "execution_count": 19,
   "metadata": {
    "ExecuteTime": {
     "end_time": "2017-04-03T17:00:55.920476",
     "start_time": "2017-04-03T17:00:55.892894"
    },
    "collapsed": true
   },
   "outputs": [],
   "source": [
    "df_without_nas = fna.fit_transform(df_correct_title)"
   ]
  },
  {
   "cell_type": "code",
   "execution_count": 20,
   "metadata": {
    "ExecuteTime": {
     "end_time": "2017-04-03T17:00:56.324440",
     "start_time": "2017-04-03T17:00:56.315005"
    },
    "collapsed": false
   },
   "outputs": [
    {
     "data": {
      "text/plain": [
       "pclass           False\n",
       "survived         False\n",
       "name             False\n",
       "sex              False\n",
       "age              False\n",
       "sibsp            False\n",
       "parch            False\n",
       "ticket           False\n",
       "fare             False\n",
       "cabin            False\n",
       "embarked         False\n",
       "boat             False\n",
       "body             False\n",
       "home.dest        False\n",
       "title            False\n",
       "ticket_number    False\n",
       "ticket_prefix    False\n",
       "cabin_class      False\n",
       "cabin_side       False\n",
       "dtype: bool"
      ]
     },
     "execution_count": 20,
     "metadata": {},
     "output_type": "execute_result"
    }
   ],
   "source": [
    "df_without_nas.isnull().any()"
   ]
  },
  {
   "cell_type": "markdown",
   "metadata": {},
   "source": [
    "## Кодирование признаков"
   ]
  },
  {
   "cell_type": "markdown",
   "metadata": {},
   "source": [
    "Мы решили не ходить далеко, а сделать обертку над __`category_encoders`__, которая по сути не только содержит наиболее часто используемые способы кодирования из __`sklearn`__, но и предлагает ряд своих.\n",
    "\n",
    "Всего в вашем распоряжении 8 способов кодировать признаки:\n",
    "* __`onehot`__ \n",
    "* __`binary`__\n",
    "* __`backward`__\n",
    "* __`ordinal`__\n",
    "* __`sum`__\n",
    "* __`poly`__\n",
    "* __`helmert`__\n",
    "* __`hash`__"
   ]
  },
  {
   "cell_type": "markdown",
   "metadata": {},
   "source": [
    "Достаточно просто указать, какие колонки мы хотим закодировать в параметре `columns_include`:"
   ]
  },
  {
   "cell_type": "code",
   "execution_count": 21,
   "metadata": {
    "ExecuteTime": {
     "end_time": "2017-04-03T17:00:58.173180",
     "start_time": "2017-04-03T17:00:58.168629"
    },
    "collapsed": true
   },
   "outputs": [],
   "source": [
    "encoding_pipeline = bacchus.DFPipeline([\n",
    "    ('label_encode', bacchus.CustomEncoder('ordinal', columns_include=['sex', 'embarked', 'boat', \n",
    "                                                                       'cabin_class', 'ticket_prefix'])),      \n",
    "    ('onehot_encode', bacchus.CustomEncoder('onehot', columns_include=['title'])),\n",
    "])"
   ]
  },
  {
   "cell_type": "code",
   "execution_count": 22,
   "metadata": {
    "ExecuteTime": {
     "end_time": "2017-04-03T17:00:58.802697",
     "start_time": "2017-04-03T17:00:58.567581"
    },
    "collapsed": true
   },
   "outputs": [],
   "source": [
    "df_encoded = encoding_pipeline.fit_transform(df_without_nas)"
   ]
  },
  {
   "cell_type": "markdown",
   "metadata": {},
   "source": [
    "## Для чего мы все это затевали?"
   ]
  },
  {
   "cell_type": "markdown",
   "metadata": {},
   "source": [
    "Конечно, чтобы объединить все сразу!\n",
    "\n",
    "Наш итог, все вместе на текущий момент:"
   ]
  },
  {
   "cell_type": "code",
   "execution_count": 23,
   "metadata": {
    "ExecuteTime": {
     "end_time": "2017-04-03T17:00:59.909601",
     "start_time": "2017-04-03T17:00:59.889592"
    },
    "collapsed": false
   },
   "outputs": [],
   "source": [
    "pipeline = bacchus.DFPipeline([\n",
    "    ('title',  bacchus.Transformer(extract_title, apply_on='name', value_name='title')),\n",
    "    ('number', bacchus.Transformer(extract_ticket_number, apply_on='ticket', value_name='ticket_number')),\n",
    "    ('prefix', bacchus.Transformer(extract_ticket_prefix, apply_on='ticket', value_name='ticket_prefix')),\n",
    "    ('cabin_class', bacchus.Transformer(cabin_class, apply_on='cabin', value_name='cabin_class')),\n",
    "    ('cabin_side', bacchus.Transformer(cabin_side, apply_on='cabin', value_name='cabin_side')),\n",
    "    \n",
    "    ('correct_titles', TitleRenaimer(column_to_apply_on='title')),\n",
    "    \n",
    "    ('fill_na', bacchus.FillNaTransformer(columns_strategies={\n",
    "        'age': dict(method='mean',\n",
    "                    groupby='sex'),\n",
    "        'embarked': 'mode',\n",
    "        'fare': 'median',\n",
    "        'boat': 'unknown',\n",
    "        'cabin_class': 'unknown',\n",
    "        'home.dest': 'unknown'\n",
    "    })),\n",
    "    \n",
    "    ('label_encode', bacchus.CustomEncoder('ordinal', columns_include=['sex', 'embarked', 'boat', \n",
    "                                                                       'cabin_class', 'ticket_prefix'])),      \n",
    "    ('onehot_encode', bacchus.CustomEncoder('onehot', columns_include=['title'])),\n",
    "    \n",
    "    ('drop_useless', bacchus.Transformer(lambda df: df.drop(['body', 'name', 'ticket', 'cabin', 'home.dest'], axis=1))),\n",
    "], verbose=True)"
   ]
  },
  {
   "cell_type": "markdown",
   "metadata": {},
   "source": [
    "Обратите, кстати, на флажок `verbose`: с его помощью можно оценить, как меняется размер датафрейма в процессе преобразований, а также находить самые медленные шаги."
   ]
  },
  {
   "cell_type": "code",
   "execution_count": 24,
   "metadata": {
    "ExecuteTime": {
     "end_time": "2017-04-03T17:01:01.048664",
     "start_time": "2017-04-03T17:01:00.744811"
    },
    "collapsed": false
   },
   "outputs": [
    {
     "name": "stdout",
     "output_type": "stream",
     "text": [
      "DFPipeline               2017-04-03 17:01:00.745747\t(1309, 14)\n",
      "Transformer              2017-04-03 17:01:00.750393\t(1309, 15)\n",
      "Transformer              2017-04-03 17:01:00.755390\t(1309, 16)\n",
      "Transformer              2017-04-03 17:01:00.760672\t(1309, 17)\n",
      "Transformer              2017-04-03 17:01:00.764133\t(1309, 18)\n",
      "Transformer              2017-04-03 17:01:00.769032\t(1309, 19)\n",
      "TitleRenaimer            2017-04-03 17:01:00.770014\t(1309, 19)\n",
      "FillNaTransformer        2017-04-03 17:01:00.798551\t(1309, 19)\n",
      "CustomEncoder            2017-04-03 17:01:01.021808\t(1309, 19)\n",
      "CustomEncoder            2017-04-03 17:01:01.045142\t(1309, 22)\n",
      "Transformer              2017-04-03 17:01:01.046703\t(1309, 17)\n"
     ]
    }
   ],
   "source": [
    "result = pipeline.fit_transform(df)"
   ]
  },
  {
   "cell_type": "markdown",
   "metadata": {},
   "source": [
    "Мы готовы к работе: все наши данные - числовые, и пропусков нет."
   ]
  },
  {
   "cell_type": "code",
   "execution_count": 25,
   "metadata": {
    "ExecuteTime": {
     "end_time": "2017-04-03T17:01:02.190665",
     "start_time": "2017-04-03T17:01:02.180731"
    },
    "collapsed": false
   },
   "outputs": [
    {
     "name": "stdout",
     "output_type": "stream",
     "text": [
      "<class 'pandas.core.frame.DataFrame'>\n",
      "RangeIndex: 1309 entries, 0 to 1308\n",
      "Data columns (total 17 columns):\n",
      "title_0          1309 non-null int64\n",
      "title_1          1309 non-null int64\n",
      "title_2          1309 non-null int64\n",
      "title_3          1309 non-null int64\n",
      "pclass           1309 non-null int64\n",
      "survived         1309 non-null int64\n",
      "sex              1309 non-null int64\n",
      "age              1309 non-null float64\n",
      "sibsp            1309 non-null int64\n",
      "parch            1309 non-null int64\n",
      "fare             1309 non-null float64\n",
      "embarked         1309 non-null int64\n",
      "boat             1309 non-null int64\n",
      "ticket_number    1309 non-null int64\n",
      "ticket_prefix    1309 non-null int64\n",
      "cabin_class      1309 non-null int64\n",
      "cabin_side       1309 non-null int64\n",
      "dtypes: float64(2), int64(15)\n",
      "memory usage: 173.9 KB\n"
     ]
    }
   ],
   "source": [
    "result.info()"
   ]
  },
  {
   "cell_type": "code",
   "execution_count": null,
   "metadata": {
    "collapsed": true
   },
   "outputs": [],
   "source": []
  }
 ],
 "metadata": {
  "kernelspec": {
   "display_name": "Python 3",
   "language": "python",
   "name": "python3"
  },
  "language_info": {
   "codemirror_mode": {
    "name": "ipython",
    "version": 3
   },
   "file_extension": ".py",
   "mimetype": "text/x-python",
   "name": "python",
   "nbconvert_exporter": "python",
   "pygments_lexer": "ipython3",
   "version": "3.6.0"
  },
  "toc": {
   "colors": {
    "hover_highlight": "#DAA520",
    "running_highlight": "#FF0000",
    "selected_highlight": "#FFD700"
   },
   "moveMenuLeft": true,
   "nav_menu": {
    "height": "48px",
    "width": "252px"
   },
   "navigate_menu": true,
   "number_sections": true,
   "sideBar": true,
   "threshold": 4,
   "toc_cell": false,
   "toc_section_display": "block",
   "toc_window_display": false
  }
 },
 "nbformat": 4,
 "nbformat_minor": 2
}
